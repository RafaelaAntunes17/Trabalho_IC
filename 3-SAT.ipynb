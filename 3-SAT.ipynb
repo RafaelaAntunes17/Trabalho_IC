{
 "cells": [
  {
   "cell_type": "markdown",
   "metadata": {},
   "source": [
    "## Interação e Concorrência 2024/2025"
   ]
  },
  {
   "cell_type": "markdown",
   "metadata": {},
   "source": [
    "### 3-SAT Problem"
   ]
  },
  {
   "cell_type": "markdown",
   "metadata": {},
   "source": [
    "##### Gonçalo Gonçalves Barroso A102931\n",
    "##### Rafaela Antunes Pereira A102527"
   ]
  },
  {
   "cell_type": "markdown",
   "metadata": {},
   "source": [
    "#### 1 - Realização de uma proposta de uma fórmula booleana 3-SAT\n",
    "\n",
    "Para este exercício, propomos uma fórmula booleana no formato 3-SAT que é solucionável, ou seja, existe pelo menos uma combinação de valores de verdade que satisfaz todas as cláusulas simultaneamente. A fórmula \n",
    "𝐹\n",
    "F é composta por quatro cláusulas, cada uma contendo exatamente três literais.\n",
    "\n",
    "$$\n",
    "F = (x_1 \\lor \\neg x_2 \\lor x_3) \\land (\\neg x_1 \\lor \\neg x_2 \\lor x_3) \\land (x_1 \\lor x_2 \\lor \\neg x_3) \\land (\\neg x_1 \\lor \\neg x_2 \\lor \\neg x_3) \\land (x_1 \\lor x_2 \\lor x_3) \\land (x_1 \\lor \\neg x_2 \\lor \\neg x_3) \\land (\\neg x_1 \\lor x_2 \\lor \\neg x_3)\n",
    "$$\n",
    "\n",
    "\n",
    "Com o objetivo de verificar a satisfatibilidade da fórmula proposta, procedeu-se à análise de todas as possíveis combinações de valores lógicos atribuídos às variáveis envolvidas. Para facilitar a interpretação dos resultados e a organização da tabela de verdade, optou-se por identificar individualmente cada cláusula da fórmula. Dessa forma, torna-se mais simples observar quais combinações satisfazem todas as cláusulas em simultâneo, garantindo assim a veracidade da fórmula como um todo.\n",
    "\n",
    "$$\n",
    "A = x_1 \\lor \\neg x_2 \\lor x_3\n",
    "$$\n",
    "$$\n",
    "B = \\neg x_1 \\lor x_2 \\lor x_3\n",
    "$$\n",
    "$$\n",
    "C = x_1 \\lor x_2 \\lor \\neg x_3\n",
    "$$\n",
    "$$\n",
    "D = \\neg x_1 \\lor \\neg x_2 \\lor \\neg x_3\n",
    "$$\n",
    "\n",
    "\n",
    "| x₁ | ¬x₁ | x₂ | ¬x₂ | x₃ | ¬x₃ | A  | B  | C  | D  | f = A ∧ B ∧ C ∧ D | Resultado                     |\n",
    "|----|-----|----|-----|----|-----|---------------------|---------------------|----------------------|-----------------------|------------------|------------------------------|\n",
    "| 0  | 1   | 0  | 1   | 0  | 1   | 1                   | 1                   | 0                    | 1                     | 0                | Não é solução                |\n",
    "| 0  | 1   | 0  | 1   | 1  | 0   | 1                   | 1                   | 1                    | 0                     | 0                | Não é solução                |\n",
    "| 0  | 1   | 1  | 0   | 0  | 1   | 1                   | 1                   | 1                    | 1                     | 1                | ✅ **Solução**                |\n",
    "| 0  | 1   | 1  | 0   | 1  | 0   | 1                   | 1                   | 1                    | 0                     | 0                | Não é solução                |\n",
    "| 1  | 0   | 0  | 1   | 0  | 1   | 1                   | 0                   | 1                    | 1                     | 0                | Não é solução                |\n",
    "| 1  | 0   | 0  | 1   | 1  | 0   | 1                   | 1                   | 1                    | 0                     | 0                | Não é solução                |\n",
    "| 1  | 0   | 1  | 0   | 0  | 1   | 1                   | 0                   | 1                    | 1                     | 0                | Não é solução                |\n",
    "| 1  | 0   | 1  | 0   | 1  | 0   | 1                   | 1                   | 1                    | 0                     | 0                | Não é solução                |\n",
    "\n",
    "\n",
    "\n"
   ]
  },
  {
   "cell_type": "markdown",
   "metadata": {},
   "source": [
    "#### 2- Implementar o Algoritmo de Grover\n",
    "\n",
    "O algoritmo de Grover é uma versão quantica do algoritmo de busca, que usa o fenômeno de pararelismo quantico para buscar soluçoes para o problema de busca. Este algoritmo apresnta uma melhoria quadrática em relacão ao algoritmo classico.\n",
    "O algoritmo de Grover divide-se me tres fases, a inicialização, o oracle e o diffuser. Temos que ter em consideração o número de qubits a utilizar.\n",
    "Sabemos que vamos precisar um qubit para cada variavel inicial, um qubit para o resultado final e por cada claúsula existente na nossa formula, então iremos precisar de 11 qubits\n"
   ]
  },
  {
   "cell_type": "code",
   "execution_count": 35,
   "metadata": {},
   "outputs": [],
   "source": [
    "import pennylane as qml\n",
    "from pennylane import numpy as np"
   ]
  },
  {
   "cell_type": "code",
   "execution_count": 36,
   "metadata": {},
   "outputs": [],
   "source": [
    "def grover(n_qubits, iterations=\"optimal\"):\n",
    "\n",
    "    #create registers\n",
    "    input_registers = range(n_qubits)\n",
    "\n",
    "    #superposition\n",
    "    for wire in input_registers:\n",
    "        qml.Hadamard(wires=wire)\n",
    "\n",
    "\n",
    "    qml.Barrier()\n",
    "\n",
    "    if iterations == \"optimal\":\n",
    "        its = int(np.round(np.pi/4*np.sqrt(2**n_qubits)))\n",
    "    else:\n",
    "        its = iterations\n",
    "\n",
    "    for _ in range(its):\n",
    "        #oracle\n",
    "        qml.Adder(1, input_registers, 2**n_qubits)\n",
    "\n",
    "        for i,k in enumerate([0,0,1]):\n",
    "            if k == 0:\n",
    "                qml.PauliX(wires=input_registers[i])\n",
    "        qml.ControlledQubitUnitary(qml.PauliZ(input_registers[-1]), control_wires=input_registers[:-1])\n",
    "        for i,k in enumerate([0,0,1]):\n",
    "            if k == 0:\n",
    "                qml.PauliX(wires=input_registers[i])\n",
    "\n",
    "        qml.Barrier()\n",
    "\n",
    "        for i,k in enumerate([1,0,1]):\n",
    "            if k == 0:\n",
    "                qml.PauliX(wires=input_registers[i])\n",
    "        qml.ControlledQubitUnitary(qml.PauliZ(input_registers[-1]), control_wires=input_registers[:-1])\n",
    "        for i,k in enumerate([1,0,1]):\n",
    "            if k == 0:\n",
    "                qml.PauliX(wires=input_registers[i])\n",
    "\n",
    "        qml.Barrier()\n",
    "\n",
    "        for i,k in enumerate([1,1,1]):\n",
    "            if k == 0:\n",
    "                qml.PauliX(wires=input_registers[i])\n",
    "        qml.ControlledQubitUnitary(qml.PauliZ(input_registers[-1]), control_wires=input_registers[:-1])\n",
    "        for i,k in enumerate([1,1,1]):\n",
    "            if k == 0:\n",
    "                qml.PauliX(wires=input_registers[i])\n",
    "\n",
    "        qml.Adder(-1, input_registers, 2**n_qubits)\n",
    "\n",
    "        qml.Barrier()\n",
    "\n",
    "        #diffusion\n",
    "        for wire in input_registers:\n",
    "            qml.Hadamard(wires=wire)\n",
    "\n",
    "        for wire in input_registers:\n",
    "            qml.PauliX(wires=wire)\n",
    "\n",
    "        qml.ControlledQubitUnitary(qml.PauliZ(input_registers[-1]), control_wires=input_registers[:-1])\n",
    "        \n",
    "        for wire in input_registers:\n",
    "            qml.PauliX(wires=wire)\n",
    "\n",
    "        for wire in input_registers:\n",
    "            qml.Hadamard(wires=wire)\n",
    "\n",
    "        qml.Barrier()\n",
    "\n",
    "\n",
    "    #measurement\n",
    "    return qml.probs(wires=input_registers)"
   ]
  },
  {
   "cell_type": "code",
   "execution_count": 37,
   "metadata": {},
   "outputs": [
    {
     "data": {
      "text/plain": [
       "Text(0.5, 1.0, 'Probability Distribution')"
      ]
     },
     "execution_count": 37,
     "metadata": {},
     "output_type": "execute_result"
    },
    {
     "data": {
      "image/png": "[encoded data removed]",
      "text/plain": [
       "<Figure size 640x480 with 1 Axes>"
      ]
     },
     "metadata": {},
     "output_type": "display_data"
    }
   ],
   "source": [
    "n_qubits = 3\n",
    "itarations = \"optimal\"\n",
    "\n",
    "dev = qml.device(\"default.qubit\", wires=n_qubits + 1)\n",
    "Grover = qml.QNode(grover, dev)\n",
    "\n",
    "probs = Grover(n_qubits, iterations=itarations)\n",
    "\n",
    "#Visualize the probability histogram\n",
    "import matplotlib.pyplot as plt\n",
    "plt.bar([np.binary_repr(i, width=n_qubits) for i in range(2**n_qubits)], probs)\n",
    "\n",
    "plt.xlabel(\"Basis State\")\n",
    "plt.ylabel(\"Probability\")\n",
    "plt.yticks(probs)\n",
    "plt.title(\"Probability Distribution\")"
   ]
  }
 ],
 "metadata": {
  "kernelspec": {
   "display_name": "Python 3",
   "language": "python",
   "name": "python3"
  },
  "language_info": {
   "codemirror_mode": {
    "name": "ipython",
    "version": 3
   },
   "file_extension": ".py",
   "mimetype": "text/x-python",
   "name": "python",
   "nbconvert_exporter": "python",
   "pygments_lexer": "ipython3",
   "version": "3.10.12"
  }
 },
 "nbformat": 4,
 "nbformat_minor": 2
}
